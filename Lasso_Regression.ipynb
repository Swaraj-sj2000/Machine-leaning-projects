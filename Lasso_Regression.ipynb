{
  "nbformat": 4,
  "nbformat_minor": 0,
  "metadata": {
    "colab": {
      "provenance": [],
      "authorship_tag": "ABX9TyO8sWSLpo5cgPEQzdWeFYgH",
      "include_colab_link": true
    },
    "kernelspec": {
      "name": "python3",
      "display_name": "Python 3"
    },
    "language_info": {
      "name": "python"
    }
  },
  "cells": [
    {
      "cell_type": "markdown",
      "metadata": {
        "id": "view-in-github",
        "colab_type": "text"
      },
      "source": [
        "<a href=\"https://colab.research.google.com/github/Swaraj-sj2000/Machine-leaning-projects/blob/main/Lasso_Regression.ipynb\" target=\"_parent\"><img src=\"https://colab.research.google.com/assets/colab-badge.svg\" alt=\"Open In Colab\"/></a>"
      ]
    },
    {
      "cell_type": "code",
      "execution_count": 2,
      "metadata": {
        "id": "kA31ZvzzGb35"
      },
      "outputs": [],
      "source": [
        "import numpy as np\n",
        "import pandas as pd\n",
        "from sklearn.preprocessing import StandardScaler\n",
        "from sklearn.model_selection import train_test_split"
      ]
    },
    {
      "cell_type": "code",
      "source": [
        "class Lasso_Regression_model:\n",
        "  def __init__(self,Learning_Rate,no_of_epochs,Lambda_parameter):\n",
        "    self.Learning_Rate=Learning_Rate\n",
        "    self.no_of_epochs=no_of_epochs\n",
        "    self.Lambda_Parameter=Lambda_parameter\n",
        "\n",
        "  def fit(self,X,Y):\n",
        "    self.rows,self.cols=X.Shape\n",
        "\n",
        "    self.w=np.zeros(self.cols)\n",
        "    self.b=0\n",
        "    self.X=X\n",
        "    self.Y=Y\n",
        "\n",
        "    for i in range(self.no_of_epochs):\n",
        "      self.update_weights()\n",
        "    \n",
        "\n",
        "\n",
        "  def update_weights(self):\n",
        "    Y_pred=self.predict(self.X)\n",
        "    dw=np.zeros(self.cols)\n",
        "    db=-2*np.sum(self.Y-Y_pred)/self.rows\n",
        "\n",
        "    for i in range(self.cols):\n",
        "      if self.w[i]>0:\n",
        "        dw[i]=((self.X[:,i].dot(self.Y-Y_pred))+self.Lambda_Parameter)*(-2)/self.rows\n",
        "\n",
        "      else:\n",
        "        dw[i]=((self.X[:,i].dot(self.Y-Y_pred))-self.Lambda_Parameter)*(-2)/self.rows\n",
        "\n",
        "\n",
        "    self.w=self.w-self.Learning_Rate*dw\n",
        "    self.b=self.b-self.Learning_Rate*db\n",
        "\n",
        "\n",
        "  def predict(self,X):\n",
        "    return X.dot(self.w)+self.b\n",
        "\n",
        "\n"
      ],
      "metadata": {
        "id": "zVn_RDrLumoa"
      },
      "execution_count": 3,
      "outputs": []
    },
    {
      "cell_type": "code",
      "source": [],
      "metadata": {
        "id": "GS7mb30K3swP"
      },
      "execution_count": null,
      "outputs": []
    }
  ]
}