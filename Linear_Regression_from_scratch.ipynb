{
  "cells": [
    {
      "cell_type": "markdown",
      "metadata": {
        "id": "view-in-github",
        "colab_type": "text"
      },
      "source": [
        "<a href=\"https://colab.research.google.com/github/Swaraj-sj2000/Machine-leaning-projects/blob/main/Linear_Regression_from_scratch.ipynb\" target=\"_parent\"><img src=\"https://colab.research.google.com/assets/colab-badge.svg\" alt=\"Open In Colab\"/></a>"
      ]
    },
    {
      "cell_type": "code",
      "execution_count": null,
      "id": "7cb2fc7b",
      "metadata": {
        "id": "7cb2fc7b"
      },
      "outputs": [],
      "source": [
        " class Linear_Regression:\n",
        "        def __init__(self,Learning_rate,no_of_iterations):\n",
        "            self.Learning_rate=Learning_rate\n",
        "            self.no_of_iterations=no_of_iterations\n",
        "             \n",
        "        \n",
        "        def fit(self,X,Y):\n",
        "            \n",
        "            #first check dimensionality\n",
        "            \n",
        "            if X.shape[0] != Y.shape[0]:\n",
        "                raise ValueError(\"Number of samples in X and Y should match.\")\n",
        "            \n",
        "            self.m,self.n=X.shape #no. of rows and columns of features\n",
        "            \n",
        "            #initialising wt. and bias\n",
        "            \n",
        "            self.w=np.zeros(self.n)  #since the no. of features may not be 1\n",
        "            self.b=0\n",
        "            self.X=X\n",
        "            self.Y=Y\n",
        "            \n",
        "            #implementing gradient descent\n",
        "            \n",
        "            for i in range(self.no_of_iterations):\n",
        "                self.update_weights()\n",
        "                \n",
        "            # return self.w, self.b\n",
        "        \n",
        "        def update_weights(self ):\n",
        "             \n",
        "            Y_prediction=self.predict(self.X)\n",
        "            \n",
        "            #calculate gradients\n",
        "            \n",
        "            dw=-(2*(self.X.T).dot(self.Y-Y_prediction))/self.m #dw for each feature\n",
        "            db=-(2*np.sum(self.Y-Y_prediction))/self.m\n",
        "            \n",
        "            #update the weights\n",
        "            \n",
        "            self.w=self.w-self.Learning_rate*dw\n",
        "            self.b=self.b-self.Learning_rate*db\n",
        "            \n",
        "            \n",
        "        \n",
        "        def predict(self,X):\n",
        "            return X.dot(self.w)+self.b   #Y=WX+b\n",
        "        \n",
        "        "
      ]
    },
    {
      "cell_type": "code",
      "execution_count": null,
      "id": "6be0d063",
      "metadata": {
        "id": "6be0d063"
      },
      "outputs": [],
      "source": [
        "import pandas as pd\n",
        "import numpy as np\n",
        "from sklearn.model_selection import train_test_split\n",
        "from sklearn.preprocessing import StandardScaler\n",
        "import matplotlib.pyplot as plt"
      ]
    },
    {
      "cell_type": "code",
      "execution_count": null,
      "id": "072f5ee1",
      "metadata": {
        "id": "072f5ee1",
        "outputId": "08e2f035-2997-48c0-8f25-4cecaaf732f7"
      },
      "outputs": [
        {
          "data": {
            "text/html": [
              "<div>\n",
              "<style scoped>\n",
              "    .dataframe tbody tr th:only-of-type {\n",
              "        vertical-align: middle;\n",
              "    }\n",
              "\n",
              "    .dataframe tbody tr th {\n",
              "        vertical-align: top;\n",
              "    }\n",
              "\n",
              "    .dataframe thead th {\n",
              "        text-align: right;\n",
              "    }\n",
              "</style>\n",
              "<table border=\"1\" class=\"dataframe\">\n",
              "  <thead>\n",
              "    <tr style=\"text-align: right;\">\n",
              "      <th></th>\n",
              "      <th>YearsExperience</th>\n",
              "      <th>Salary</th>\n",
              "    </tr>\n",
              "  </thead>\n",
              "  <tbody>\n",
              "    <tr>\n",
              "      <th>0</th>\n",
              "      <td>1.1</td>\n",
              "      <td>39343</td>\n",
              "    </tr>\n",
              "    <tr>\n",
              "      <th>1</th>\n",
              "      <td>1.3</td>\n",
              "      <td>46205</td>\n",
              "    </tr>\n",
              "    <tr>\n",
              "      <th>2</th>\n",
              "      <td>1.5</td>\n",
              "      <td>37731</td>\n",
              "    </tr>\n",
              "    <tr>\n",
              "      <th>3</th>\n",
              "      <td>2.0</td>\n",
              "      <td>43525</td>\n",
              "    </tr>\n",
              "    <tr>\n",
              "      <th>4</th>\n",
              "      <td>2.2</td>\n",
              "      <td>39891</td>\n",
              "    </tr>\n",
              "  </tbody>\n",
              "</table>\n",
              "</div>"
            ],
            "text/plain": [
              "   YearsExperience  Salary\n",
              "0              1.1   39343\n",
              "1              1.3   46205\n",
              "2              1.5   37731\n",
              "3              2.0   43525\n",
              "4              2.2   39891"
            ]
          },
          "execution_count": 3,
          "metadata": {},
          "output_type": "execute_result"
        }
      ],
      "source": [
        "salary_df=pd.read_csv('salary_data.csv')\n",
        "salary_df.shape\n",
        "salary_df.head()"
      ]
    },
    {
      "cell_type": "code",
      "execution_count": null,
      "id": "9496a1a1",
      "metadata": {
        "id": "9496a1a1"
      },
      "outputs": [],
      "source": [
        "X=salary_df.iloc[:,:-1].values  #all rows,all columns except last\n",
        "Y=salary_df.iloc[:,1].values    #all rows and column 2"
      ]
    },
    {
      "cell_type": "code",
      "execution_count": null,
      "id": "25b8cbcc",
      "metadata": {
        "id": "25b8cbcc",
        "outputId": "33656062-a100-4bf2-b6bd-db537637262d"
      },
      "outputs": [
        {
          "name": "stdout",
          "output_type": "stream",
          "text": [
            "[[ 1.1]\n",
            " [ 1.3]\n",
            " [ 1.5]\n",
            " [ 2. ]\n",
            " [ 2.2]\n",
            " [ 2.9]\n",
            " [ 3. ]\n",
            " [ 3.2]\n",
            " [ 3.2]\n",
            " [ 3.7]\n",
            " [ 3.9]\n",
            " [ 4. ]\n",
            " [ 4. ]\n",
            " [ 4.1]\n",
            " [ 4.5]\n",
            " [ 4.9]\n",
            " [ 5.1]\n",
            " [ 5.3]\n",
            " [ 5.9]\n",
            " [ 6. ]\n",
            " [ 6.8]\n",
            " [ 7.1]\n",
            " [ 7.9]\n",
            " [ 8.2]\n",
            " [ 8.7]\n",
            " [ 9. ]\n",
            " [ 9.5]\n",
            " [ 9.6]\n",
            " [10.3]\n",
            " [10.5]] [ 39343  46205  37731  43525  39891  56642  60150  54445  64445  57189\n",
            "  63218  55794  56957  57081  61111  67938  66029  83088  81363  93940\n",
            "  91738  98273 101302 113812 109431 105582 116969 112635 122391 121872]\n"
          ]
        }
      ],
      "source": [
        "print(X,Y)"
      ]
    },
    {
      "cell_type": "code",
      "execution_count": null,
      "id": "ad2b8af0",
      "metadata": {
        "id": "ad2b8af0"
      },
      "outputs": [],
      "source": [
        "X_train,X_test,Y_train,Y_test=train_test_split(X,Y,test_size=1/3,random_state=42)"
      ]
    },
    {
      "cell_type": "code",
      "execution_count": null,
      "id": "b3be3f83",
      "metadata": {
        "id": "b3be3f83"
      },
      "outputs": [],
      "source": [
        "LR=Linear_Regression(0.02,int(10e4))"
      ]
    },
    {
      "cell_type": "code",
      "execution_count": null,
      "id": "b39fd9ab",
      "metadata": {
        "id": "b39fd9ab"
      },
      "outputs": [],
      "source": [
        "LR.fit(X_train,Y_train)"
      ]
    },
    {
      "cell_type": "code",
      "execution_count": null,
      "id": "905447f2",
      "metadata": {
        "id": "905447f2",
        "outputId": "0dec1851-5e7d-4470-8692-972c7f0b6dda"
      },
      "outputs": [
        {
          "name": "stdout",
          "output_type": "stream",
          "text": [
            "[9426.03876907] 25324.335379244127\n"
          ]
        }
      ],
      "source": [
        "print(LR.w,LR.b)"
      ]
    },
    {
      "cell_type": "code",
      "execution_count": null,
      "id": "05ac082f",
      "metadata": {
        "id": "05ac082f"
      },
      "outputs": [],
      "source": [
        "Y_predicted=LR.predict(X_test)"
      ]
    },
    {
      "cell_type": "code",
      "execution_count": null,
      "id": "988e5cae",
      "metadata": {
        "id": "988e5cae",
        "outputId": "3c15f375-abbc-4a62-a7f4-616e004b4bab"
      },
      "outputs": [
        {
          "name": "stdout",
          "output_type": "stream",
          "text": [
            "[115814.30756236  71511.92534771 102617.85328566  75282.34085534\n",
            "  55487.65944028  60200.67882482 122412.53470072 107330.8726702\n",
            "  63028.49045554  35692.97802523]\n"
          ]
        }
      ],
      "source": [
        "print(Y_predicted)"
      ]
    },
    {
      "cell_type": "code",
      "execution_count": null,
      "id": "176062be",
      "metadata": {
        "id": "176062be",
        "outputId": "a6cd7b81-bf48-47b6-e6cb-e6f2f5ed37a9"
      },
      "outputs": [
        {
          "data": {
            "image/png": "[encoded data removed]",
            "text/plain": [
              "<Figure size 432x288 with 1 Axes>"
            ]
          },
          "metadata": {
            "needs_background": "light"
          },
          "output_type": "display_data"
        }
      ],
      "source": [
        "plt.scatter(X_test,Y_test,color='red')\n",
        "plt.plot(X_test,Y_predicted,color='blue')\n",
        "plt.show()"
      ]
    },
    {
      "cell_type": "code",
      "execution_count": null,
      "id": "b5e1fc3b",
      "metadata": {
        "id": "b5e1fc3b"
      },
      "outputs": [],
      "source": []
    }
  ],
  "metadata": {
    "kernelspec": {
      "display_name": "Python 3 (ipykernel)",
      "language": "python",
      "name": "python3"
    },
    "language_info": {
      "codemirror_mode": {
        "name": "ipython",
        "version": 3
      },
      "file_extension": ".py",
      "mimetype": "text/x-python",
      "name": "python",
      "nbconvert_exporter": "python",
      "pygments_lexer": "ipython3",
      "version": "3.9.13"
    },
    "colab": {
      "provenance": [],
      "include_colab_link": true
    }
  },
  "nbformat": 4,
  "nbformat_minor": 5
}